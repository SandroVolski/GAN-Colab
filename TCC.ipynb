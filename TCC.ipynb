{
  "nbformat": 4,
  "nbformat_minor": 0,
  "metadata": {
    "colab": {
      "private_outputs": true,
      "provenance": [],
      "authorship_tag": "ABX9TyP9pqrOq7LA1XJuxgVpj0Ef",
      "include_colab_link": true
    },
    "kernelspec": {
      "name": "python3",
      "display_name": "Python 3"
    },
    "language_info": {
      "name": "python"
    }
  },
  "cells": [
    {
      "cell_type": "markdown",
      "metadata": {
        "id": "view-in-github",
        "colab_type": "text"
      },
      "source": [
        "<a href=\"https://colab.research.google.com/github/SandroVolski/GAN-Colab/blob/main/TCC.ipynb\" target=\"_parent\"><img src=\"https://colab.research.google.com/assets/colab-badge.svg\" alt=\"Open In Colab\"/></a>"
      ]
    },
    {
      "cell_type": "code",
      "execution_count": null,
      "metadata": {
        "id": "pCVdDw53vli0"
      },
      "outputs": [],
      "source": [
        "!git clone https://github.com/TencentARC/GFPGAN.git\n",
        "%cd GFPGAN\n",
        "\n",
        "!pip install basicsr\n",
        "!pip install facexlib\n",
        "!pip install realesrgan\n",
        "!pip install -r requirements.txt\n",
        "!python setup.py develop\n",
        "\n",
        "import cv2\n",
        "import os\n",
        "import glob\n",
        "from google.colab.patches import cv2_imshow\n",
        "import matplotlib.pyplot as plt\n",
        "\n",
        "!wget https://github.com/TencentARC/GFPGAN/releases/download/v1.3.0/GFPGANv1.3.pth\n",
        "\n",
        "nome_modelo = 'GFPGANv1.3.pth'\n",
        "!mv {nome_modelo} experiments/pretrained_models/{nome_modelo}\n",
        "\n",
        "dir_imagens = 'inputs/testes'\n",
        "os.makedirs(dir_imagens, exist_ok = True)"
      ]
    },
    {
      "cell_type": "code",
      "source": [
        "!python inference_gfpgan.py -i inputs/testes -o results -v 1.3 -s 2 --bg_upsampler realesrgan"
      ],
      "metadata": {
        "id": "ZVoNvN-EvmS0"
      },
      "execution_count": null,
      "outputs": []
    },
    {
      "cell_type": "code",
      "source": [
        "nome_img = 'bandido.png'\n",
        "resultado = cv2.imread('results/restored_imgs/{}'.format(nome_img))\n",
        "cv2_imshow(resultado)"
      ],
      "metadata": {
        "id": "zsFdgehFvmaa"
      },
      "execution_count": null,
      "outputs": []
    },
    {
      "cell_type": "code",
      "source": [
        "original = cv2.imread('inputs/testes/{}'.format(nome_img))\n",
        "cv2_imshow(original)"
      ],
      "metadata": {
        "id": "XqR6Pjjlvmca"
      },
      "execution_count": null,
      "outputs": []
    },
    {
      "cell_type": "code",
      "source": [
        "dir_faces = 'results/cropped_faces'\n",
        "dir_resultados = 'results/restored_faces'"
      ],
      "metadata": {
        "id": "Rp7dNQKivmed"
      },
      "execution_count": null,
      "outputs": []
    },
    {
      "cell_type": "code",
      "source": [
        "def ler(img_path):\n",
        "  img = cv2.imread(img_path)\n",
        "  img = cv2.cvtColor(img, cv2.COLOR_BGR2RGB)\n",
        "  return img"
      ],
      "metadata": {
        "id": "hc-IMYMmvmgT"
      },
      "execution_count": null,
      "outputs": []
    },
    {
      "cell_type": "code",
      "source": [
        "def exibir(img1, img2):\n",
        "  plt.figure(figsize=(12,8))\n",
        "  plt.subplot(1, 2, 1)\n",
        "  plt.title('Imagem de entrada', fontsize=12)\n",
        "  plt.imshow(img1)\n",
        "  plt.axis('off')\n",
        "  plt.subplot(1, 2, 2)\n",
        "  plt.title('Imagem restaurada', fontsize=12)\n",
        "  plt.imshow(img2)\n",
        "  plt.axis('off')"
      ],
      "metadata": {
        "id": "3xK7Q0lqvmiK"
      },
      "execution_count": null,
      "outputs": []
    },
    {
      "cell_type": "code",
      "source": [
        "lista_entradas = sorted(glob.glob(os.path.join(dir_faces, '*')))\n",
        "lista_saidas = sorted(glob.glob(os.path.join(dir_resultados, '*')))\n",
        "for entrada_path, saida_path in zip(lista_entradas, lista_saidas):\n",
        "  #print(entrada_path, saida_path)\n",
        "  img_entrada = ler(entrada_path)\n",
        "  img_saida = ler(saida_path)\n",
        "  exibir(img_entrada, img_saida)"
      ],
      "metadata": {
        "id": "z3I_h81EvmkJ"
      },
      "execution_count": null,
      "outputs": []
    },
    {
      "cell_type": "code",
      "source": [
        "from google.colab import files\n",
        "!ls results\n",
        "os.system('zip -r resultados.zip results')\n",
        "files.download('resultados.zip')"
      ],
      "metadata": {
        "id": "IaP09fQBvml2"
      },
      "execution_count": null,
      "outputs": []
    },
    {
      "cell_type": "code",
      "source": [],
      "metadata": {
        "id": "k2bIg0c3vmnn"
      },
      "execution_count": null,
      "outputs": []
    }
  ]
}